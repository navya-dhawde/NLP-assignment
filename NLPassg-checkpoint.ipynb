{
 "cells": [
  {
   "cell_type": "code",
   "execution_count": 15,
   "id": "2028c169-2ee2-41cc-a095-1d7e5fcf43ab",
   "metadata": {},
   "outputs": [],
   "source": [
    "# Import required libraries\n",
    "import numpy as np\n",
    "import pandas as pd\n",
    "from sklearn.model_selection import train_test_split, GridSearchCV\n",
    "from sklearn.ensemble import RandomForestClassifier\n",
    "from sklearn.model_selection import RandomizedSearchCV\n",
    "from sklearn.feature_extraction.text import TfidfVectorizer\n",
    "from sklearn.linear_model import LogisticRegression\n",
    "from sklearn.metrics import confusion_matrix, classification_report, accuracy_score"
   ]
  },
  {
   "cell_type": "code",
   "execution_count": 16,
   "id": "9f4bbed3-7b62-4551-b923-adf9be92e1d1",
   "metadata": {},
   "outputs": [],
   "source": [
    "# Function to load data\n",
    "def load_data():\n",
    "    with open('rt-polarity.pos', 'r', encoding='latin-1') as pos_file:\n",
    "        positive_reviews = pos_file.readlines()\n",
    "\n",
    "    with open('rt-polarity.neg', 'r', encoding='latin-1') as neg_file:\n",
    "        negative_reviews = neg_file.readlines()\n",
    "\n",
    "    return positive_reviews, negative_reviews\n",
    "\n",
    "# Load the data\n",
    "positive_reviews, negative_reviews = load_data()"
   ]
  },
  {
   "cell_type": "code",
   "execution_count": 10,
   "id": "e0670e8d-6b0e-45aa-9794-1738be1ab0f2",
   "metadata": {},
   "outputs": [
    {
     "name": "stdout",
     "output_type": "stream",
     "text": [
      "Length of training data: 8000\n"
     ]
    }
   ],
   "source": [
    "# Split data into training, validation, and test sets\n",
    "def split_data(positive_reviews, negative_reviews):\n",
    "    # Training: First 4000 positive and negative\n",
    "    X_train = positive_reviews[:4000] + negative_reviews[:4000]\n",
    "    y_train = [1]*4000 + [0]*4000\n",
    "\n",
    "    # Validation: Next 500 positive and negative\n",
    "    X_val = positive_reviews[4000:4500] + negative_reviews[4000:4500]\n",
    "    y_val = [1]*500 + [0]*500\n",
    "\n",
    "    # Test: Remaining 831 positive and negative\n",
    "    X_test = positive_reviews[4500:] + negative_reviews[4500:]\n",
    "    y_test = [1]*831 + [0]*831\n",
    "\n",
    "    return X_train, y_train, X_val, y_val, X_test, y_test\n",
    "\n",
    "# Split the data\n",
    "X_train, y_train, X_val, y_val, X_test, y_test = split_data(positive_reviews, negative_reviews)\n",
    "print(\"Length of training data:\", len(X_train))\n",
    "\n",
    "\n",
    "# print(\"Training set size:\", len(X_train))\n",
    "# # Display a few examples from each dataset split\n",
    "# print(\"Training Data (first 5 examples):\")\n",
    "# for i in range(5):\n",
    "#     print(f\"Review: {X_train[i]}\")\n",
    "#     print(f\"Label: {'Positive' if y_train[i] == 1 else 'Negative'}\")\n",
    "#     print()\n",
    "\n",
    "# print(\"Validation Data (first 5 examples):\")\n",
    "# for i in range(5):\n",
    "#     print(f\"Review: {X_val[i]}\")\n",
    "#     print(f\"Label: {'Positive' if y_val[i] == 1 else 'Negative'}\")\n",
    "#     print()\n",
    "\n",
    "# print(\"Test Data (first 5 examples):\")\n",
    "# for i in range(5):\n",
    "#     print(f\"Review: {X_test[i]}\")\n",
    "#     print(f\"Label: {'Positive' if y_test[i] == 1 else 'Negative'}\")\n",
    "#     print()"
   ]
  },
  {
   "cell_type": "code",
   "execution_count": 19,
   "id": "b7414682-586c-47ba-ac4e-661820b9d85c",
   "metadata": {},
   "outputs": [
    {
     "name": "stdout",
     "output_type": "stream",
     "text": [
      "TF-IDF Matrix (full training examples):\n",
      "       10  100  101   11  110   12   13   15  170   19  ...  youthful   yu  \\\n",
      "0     0.0  0.0  0.0  0.0  0.0  0.0  0.0  0.0  0.0  0.0  ...       0.0  0.0   \n",
      "1     0.0  0.0  0.0  0.0  0.0  0.0  0.0  0.0  0.0  0.0  ...       0.0  0.0   \n",
      "2     0.0  0.0  0.0  0.0  0.0  0.0  0.0  0.0  0.0  0.0  ...       0.0  0.0   \n",
      "3     0.0  0.0  0.0  0.0  0.0  0.0  0.0  0.0  0.0  0.0  ...       0.0  0.0   \n",
      "4     0.0  0.0  0.0  0.0  0.0  0.0  0.0  0.0  0.0  0.0  ...       0.0  0.0   \n",
      "...   ...  ...  ...  ...  ...  ...  ...  ...  ...  ...  ...       ...  ...   \n",
      "7995  0.0  0.0  0.0  0.0  0.0  0.0  0.0  0.0  0.0  0.0  ...       0.0  0.0   \n",
      "7996  0.0  0.0  0.0  0.0  0.0  0.0  0.0  0.0  0.0  0.0  ...       0.0  0.0   \n",
      "7997  0.0  0.0  0.0  0.0  0.0  0.0  0.0  0.0  0.0  0.0  ...       0.0  0.0   \n",
      "7998  0.0  0.0  0.0  0.0  0.0  0.0  0.0  0.0  0.0  0.0  ...       0.0  0.0   \n",
      "7999  0.0  0.0  0.0  0.0  0.0  0.0  0.0  0.0  0.0  0.0  ...       0.0  0.0   \n",
      "\n",
      "      yvan  zany  zeal  zero  zhang  zhao  zippy  zone  \n",
      "0      0.0   0.0   0.0   0.0    0.0   0.0    0.0   0.0  \n",
      "1      0.0   0.0   0.0   0.0    0.0   0.0    0.0   0.0  \n",
      "2      0.0   0.0   0.0   0.0    0.0   0.0    0.0   0.0  \n",
      "3      0.0   0.0   0.0   0.0    0.0   0.0    0.0   0.0  \n",
      "4      0.0   0.0   0.0   0.0    0.0   0.0    0.0   0.0  \n",
      "...    ...   ...   ...   ...    ...   ...    ...   ...  \n",
      "7995   0.0   0.0   0.0   0.0    0.0   0.0    0.0   0.0  \n",
      "7996   0.0   0.0   0.0   0.0    0.0   0.0    0.0   0.0  \n",
      "7997   0.0   0.0   0.0   0.0    0.0   0.0    0.0   0.0  \n",
      "7998   0.0   0.0   0.0   0.0    0.0   0.0    0.0   0.0  \n",
      "7999   0.0   0.0   0.0   0.0    0.0   0.0    0.0   0.0  \n",
      "\n",
      "[8000 rows x 5000 columns]\n",
      "Vocabulary Size: 5000\n",
      "Sample Vocabulary (first 20 words): ['10' '100' '101' '11' '110' '12' '13' '15' '170' '19' '1960s' '1970s'\n",
      " '1975' '1999' '19th' '20' '2002' '20th' '21st' '30']\n"
     ]
    }
   ],
   "source": [
    "# Step 3: Text preprocessing and feature extraction using TF-IDF\n",
    "tfidf_vectorizer = TfidfVectorizer(stop_words='english', max_features=5000)\n",
    "\n",
    "# Transform the training, validation, and test sets\n",
    "X_train_tfidf = tfidf_vectorizer.fit_transform(X_train)  # Use X_train\n",
    "X_val_tfidf = tfidf_vectorizer.transform(X_val)          # Use X_val\n",
    "X_test_tfidf = tfidf_vectorizer.transform(X_test)        # Use X_test\n",
    "\n",
    "# Convert the full sparse matrix to a dense matrix\n",
    "dense_train_matrix = X_train_tfidf.todense()\n",
    "\n",
    "# Get feature names\n",
    "feature_names = tfidf_vectorizer.get_feature_names_out()\n",
    "\n",
    "# Convert to DataFrame for better readability\n",
    "df = pd.DataFrame(dense_train_matrix, columns=feature_names)\n",
    "\n",
    "# Display the TF-IDF matrix for all training examples\n",
    "print(\"TF-IDF Matrix (full training examples):\")\n",
    "print(df)\n",
    "\n",
    "# Display the vocabulary size and sample vocabulary\n",
    "print(\"Vocabulary Size:\", len(feature_names))\n",
    "print(\"Sample Vocabulary (first 20 words):\", feature_names[:20])"
   ]
  },
  {
   "cell_type": "code",
   "execution_count": 20,
   "id": "bb7aa0b7-03f1-4817-9f81-f82623485f5c",
   "metadata": {},
   "outputs": [
    {
     "name": "stdout",
     "output_type": "stream",
     "text": [
      "Shape of X_train: (8000, 5000)\n",
      "Length of train_labels: 8000\n"
     ]
    }
   ],
   "source": [
    "print(\"Shape of X_train:\", X_train_tfidf.shape)        # Should be (n_samples, n_features)\n",
    "print(\"Length of train_labels:\", len(y_train))          # Should match n_samples"
   ]
  },
  {
   "cell_type": "code",
   "execution_count": 24,
   "id": "96bf2578-6592-4136-af3d-684c6886ab58",
   "metadata": {},
   "outputs": [
    {
     "name": "stdout",
     "output_type": "stream",
     "text": [
      "Fitting 5 folds for each of 10 candidates, totalling 50 fits\n",
      "Training Accuracy: 99.91250000000001 %\n",
      "Validation Accuracy: 77.0 %\n",
      "Test Accuracy: 74.60890493381469 %\n"
     ]
    }
   ],
   "source": [
    "from sklearn.svm import SVC\n",
    "from sklearn.model_selection import RandomizedSearchCV\n",
    "\n",
    "# Step 4: Train the SVM model\n",
    "svm_model = SVC()\n",
    "\n",
    "# Set up the parameter grid for RandomizedSearchCV\n",
    "param_dist = {\n",
    "    'C': [0.1, 1, 10],\n",
    "    'kernel': ['linear', 'rbf', 'poly'],\n",
    "    'gamma': ['scale', 'auto']\n",
    "}\n",
    "\n",
    "# Use RandomizedSearchCV to find the best parameters\n",
    "random_search = RandomizedSearchCV(svm_model, param_distributions=param_dist, n_iter=10, cv=5, scoring='accuracy', verbose=1, random_state=42)\n",
    "random_search.fit(X_train_tfidf, y_train)\n",
    "\n",
    "# Best model evaluation\n",
    "best_svm_model = random_search.best_estimator_\n",
    "\n",
    "# Calculate and display training accuracy\n",
    "train_score = best_svm_model.score(X_train_tfidf, y_train)\n",
    "print(\"Training Accuracy:\", train_score * 100, \"%\")\n",
    "\n",
    "# Validate the model\n",
    "val_accuracy = best_svm_model.score(X_val_tfidf, y_val)\n",
    "print(\"Validation Accuracy:\", val_accuracy * 100, \"%\")\n",
    "\n",
    "# Step 6: Test the model on the test set\n",
    "test_predictions = best_svm_model.predict(X_test_tfidf)\n",
    "test_accuracy = best_svm_model.score(X_test_tfidf, y_test)\n",
    "print(\"Test Accuracy:\", test_accuracy * 100,\"%\")"
   ]
  },
  {
   "cell_type": "code",
   "execution_count": 33,
   "id": "d898225e-cd12-4e36-811d-b96a1b777d48",
   "metadata": {},
   "outputs": [
    {
     "name": "stdout",
     "output_type": "stream",
     "text": [
      "Confusion Matrix:\n",
      " [[623 208]\n",
      " [214 617]]\n",
      "Classification Report:\n",
      "               precision    recall  f1-score   support\n",
      "\n",
      "    Negative       0.74      0.75      0.75       831\n",
      "    Positive       0.75      0.74      0.75       831\n",
      "\n",
      "    accuracy                           0.75      1662\n",
      "   macro avg       0.75      0.75      0.75      1662\n",
      "weighted avg       0.75      0.75      0.75      1662\n",
      "\n",
      "True Positives (TP): 617\n",
      "True Negatives (TN): 623\n",
      "False Positives (FP): 208\n",
      "False Negatives (FN): 214\n",
      "Precision: 0.7479 %\n"
     ]
    },
    {
     "ename": "ValueError",
     "evalue": "Invalid format specifier '.4f*100' for object of type 'float'",
     "output_type": "error",
     "traceback": [
      "\u001b[1;31m---------------------------------------------------------------------------\u001b[0m",
      "\u001b[1;31mValueError\u001b[0m                                Traceback (most recent call last)",
      "Cell \u001b[1;32mIn[33], line 28\u001b[0m\n\u001b[0;32m     26\u001b[0m \u001b[38;5;28mprint\u001b[39m(\u001b[38;5;124mf\u001b[39m\u001b[38;5;124m\"\u001b[39m\u001b[38;5;124mFalse Negatives (FN): \u001b[39m\u001b[38;5;132;01m{\u001b[39;00mFN\u001b[38;5;132;01m}\u001b[39;00m\u001b[38;5;124m\"\u001b[39m)\n\u001b[0;32m     27\u001b[0m \u001b[38;5;28mprint\u001b[39m(\u001b[38;5;124mf\u001b[39m\u001b[38;5;124m\"\u001b[39m\u001b[38;5;124mPrecision: \u001b[39m\u001b[38;5;132;01m{\u001b[39;00mprecision\u001b[38;5;132;01m:\u001b[39;00m\u001b[38;5;124m.4f\u001b[39m\u001b[38;5;132;01m}\u001b[39;00m\u001b[38;5;124m\"\u001b[39m,\u001b[38;5;124m\"\u001b[39m\u001b[38;5;124m%\u001b[39m\u001b[38;5;124m\"\u001b[39m)\n\u001b[1;32m---> 28\u001b[0m \u001b[38;5;28mprint\u001b[39m(\u001b[38;5;124mf\u001b[39m\u001b[38;5;124m\"\u001b[39m\u001b[38;5;124mRecall: \u001b[39m\u001b[38;5;132;43;01m{\u001b[39;49;00m\u001b[43mrecall\u001b[49m\u001b[38;5;132;43;01m:\u001b[39;49;00m\u001b[38;5;124;43m.4f*100\u001b[39;49m\u001b[38;5;132;43;01m}\u001b[39;49;00m\u001b[38;5;124m*\u001b[39m\u001b[38;5;124m\"\u001b[39m,\u001b[38;5;124m\"\u001b[39m\u001b[38;5;124m%\u001b[39m\u001b[38;5;124m\"\u001b[39m)\n\u001b[0;32m     29\u001b[0m \u001b[38;5;28mprint\u001b[39m(\u001b[38;5;124mf\u001b[39m\u001b[38;5;124m\"\u001b[39m\u001b[38;5;124mF1-Score: \u001b[39m\u001b[38;5;132;01m{\u001b[39;00mf1_score\u001b[38;5;132;01m:\u001b[39;00m\u001b[38;5;124m.4f\u001b[39m\u001b[38;5;132;01m}\u001b[39;00m\u001b[38;5;124m\"\u001b[39m,\u001b[38;5;124m\"\u001b[39m\u001b[38;5;124m%\u001b[39m\u001b[38;5;124m\"\u001b[39m)\n",
      "\u001b[1;31mValueError\u001b[0m: Invalid format specifier '.4f*100' for object of type 'float'"
     ]
    }
   ],
   "source": [
    "# Step 6: Test the model on the test set\n",
    "test_predictions = best_svm_model.predict(X_test_tfidf)  # Use the transformed test data\n",
    "\n",
    "# Step 7: Report results (confusion matrix, precision, recall, F1-score)\n",
    "conf_matrix = confusion_matrix(y_test, test_predictions)  # Use y_test for labels\n",
    "print(\"Confusion Matrix:\\n\", conf_matrix)\n",
    "\n",
    "# Precision, Recall, F1-Score\n",
    "report = classification_report(y_test, test_predictions, target_names=['Negative', 'Positive'])\n",
    "print(\"Classification Report:\\n\", report)\n",
    "\n",
    "# Step 8: Display metrics in a readable format\n",
    "TP = conf_matrix[1, 1]  # True Positives\n",
    "TN = conf_matrix[0, 0]  # True Negatives\n",
    "FP = conf_matrix[0, 1]  # False Positives\n",
    "FN = conf_matrix[1, 0]  # False Negatives\n",
    "\n",
    "# Calculate precision, recall, and F1 score with checks for division by zero\n",
    "precision = TP / (TP + FP) if (TP + FP) > 0 else 0\n",
    "recall = TP / (TP + FN) if (TP + FN) > 0 else 0\n",
    "f1_score = 2 * (precision * recall) / (precision + recall) if (precision + recall) > 0 else 0\n",
    "\n",
    "print(f\"True Positives (TP): {TP}\")\n",
    "print(f\"True Negatives (TN): {TN}\")\n",
    "print(f\"False Positives (FP): {FP}\")\n",
    "print(f\"False Negatives (FN): {FN}\")\n",
    "print(f\"Precision: {precision*100:.4f}\",\"%\")\n",
    "print(f\"Recall: {recall:.4f*}*\",\"%\")\n",
    "print(f\"F1-Score: {f1_score:.4f}\",\"%\")"
   ]
  },
  {
   "cell_type": "code",
   "execution_count": null,
   "id": "7f3ed33e-9faf-47a8-bc2a-7ed2665fc287",
   "metadata": {},
   "outputs": [],
   "source": []
  }
 ],
 "metadata": {
  "kernelspec": {
   "display_name": "Python 3 (ipykernel)",
   "language": "python",
   "name": "python3"
  },
  "language_info": {
   "codemirror_mode": {
    "name": "ipython",
    "version": 3
   },
   "file_extension": ".py",
   "mimetype": "text/x-python",
   "name": "python",
   "nbconvert_exporter": "python",
   "pygments_lexer": "ipython3",
   "version": "3.12.6"
  }
 },
 "nbformat": 4,
 "nbformat_minor": 5
}
